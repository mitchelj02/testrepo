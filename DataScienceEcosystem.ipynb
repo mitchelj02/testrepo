{
 "cells": [
  {
   "cell_type": "code",
   "execution_count": 152,
   "id": "908f83b1-3256-4510-b391-ce5a3d7553e3",
   "metadata": {},
   "outputs": [],
   "source": [
    "#Data Science Tools and Ecosystem"
   ]
  },
  {
   "cell_type": "code",
   "execution_count": 153,
   "id": "e80aa9a9-1c52-40dc-9d9a-8a2b6b949800",
   "metadata": {},
   "outputs": [],
   "source": [
    "#In this notebook, Data Science Tools and Ecosystem are summarized."
   ]
  },
  {
   "cell_type": "code",
   "execution_count": 154,
   "id": "d1c114e9-63d2-460c-a771-e79e33ec838c",
   "metadata": {},
   "outputs": [],
   "source": [
    "#Objectives: "
   ]
  },
  {
   "cell_type": "code",
   "execution_count": 155,
   "id": "912038b5-b666-43be-acac-c40f6a3d5046",
   "metadata": {},
   "outputs": [],
   "source": [
    "obj = [\"Languages, Libraries, Arithmetic\"]"
   ]
  },
  {
   "cell_type": "code",
   "execution_count": 156,
   "id": "fe91726d-85a7-4e01-97d5-a3d090266441",
   "metadata": {},
   "outputs": [
    {
     "name": "stdout",
     "output_type": "stream",
     "text": [
      "['Languages, Libraries, Arithmetic']\n"
     ]
    }
   ],
   "source": [
    "print(obj)"
   ]
  },
  {
   "cell_type": "code",
   "execution_count": null,
   "id": "4d73378b-3997-4a6d-99c8-9e4a57ad9f54",
   "metadata": {},
   "outputs": [],
   "source": []
  },
  {
   "cell_type": "code",
   "execution_count": 157,
   "id": "a14186ea-3493-417f-9413-d52f9844d5a2",
   "metadata": {},
   "outputs": [],
   "source": [
    "#Some of the popular languages Data Scientists use are: 1. Python 2. R 3. Java"
   ]
  },
  {
   "cell_type": "code",
   "execution_count": 158,
   "id": "816648d6-5910-4a60-9143-790917474103",
   "metadata": {},
   "outputs": [],
   "source": [
    "dslang = []"
   ]
  },
  {
   "cell_type": "code",
   "execution_count": 159,
   "id": "ef7555b2-6bed-41f7-902b-01c5cd7bbb7e",
   "metadata": {},
   "outputs": [],
   "source": [
    "dslang.append(\"1. Python\")"
   ]
  },
  {
   "cell_type": "code",
   "execution_count": 160,
   "id": "944212bf-dc90-4787-bd1d-fed2755e9c7d",
   "metadata": {},
   "outputs": [],
   "source": [
    "dslang.append(\"2. SQL\")"
   ]
  },
  {
   "cell_type": "code",
   "execution_count": 161,
   "id": "f67f324e-63ee-4cb5-9300-758f1232a3ac",
   "metadata": {},
   "outputs": [],
   "source": [
    "dslang.append(\"3. R\")"
   ]
  },
  {
   "cell_type": "code",
   "execution_count": 162,
   "id": "3ceb1c34-0a23-42e4-8590-399372dc1b03",
   "metadata": {},
   "outputs": [
    {
     "name": "stdout",
     "output_type": "stream",
     "text": [
      "['1. Python', '2. SQL', '3. R']\n"
     ]
    }
   ],
   "source": [
    "print(dslang)"
   ]
  },
  {
   "cell_type": "code",
   "execution_count": 163,
   "id": "7fc282a8-c095-4a87-8195-7a8c246a7d06",
   "metadata": {},
   "outputs": [],
   "source": [
    "#Some of the commonly used libraries used by Data Scientists include:"
   ]
  },
  {
   "cell_type": "code",
   "execution_count": 164,
   "id": "ab8a92c2-1e5e-4e60-980e-460a5e94e10c",
   "metadata": {},
   "outputs": [],
   "source": [
    "dslibs = []"
   ]
  },
  {
   "cell_type": "code",
   "execution_count": 165,
   "id": "55b72c9e-459e-45e7-8655-15d144f77dbb",
   "metadata": {},
   "outputs": [],
   "source": [
    "dslibs.append(\"1. Pandas\")"
   ]
  },
  {
   "cell_type": "code",
   "execution_count": 166,
   "id": "b13f44d7-ba75-4570-9ada-cc120467de0c",
   "metadata": {},
   "outputs": [],
   "source": [
    "dslibs.append(\"2. NumPy\")"
   ]
  },
  {
   "cell_type": "code",
   "execution_count": 167,
   "id": "b50d8adf-572c-46e2-9067-c457b5bf61e8",
   "metadata": {},
   "outputs": [],
   "source": [
    "dslibs.append(\"3. Matplotlib\")"
   ]
  },
  {
   "cell_type": "code",
   "execution_count": 168,
   "id": "79418baf-8b9a-49cb-9afa-2ab467563a38",
   "metadata": {},
   "outputs": [
    {
     "name": "stdout",
     "output_type": "stream",
     "text": [
      "['1. Pandas', '2. NumPy', '3. Matplotlib']\n"
     ]
    }
   ],
   "source": [
    "print(dslibs)"
   ]
  },
  {
   "cell_type": "code",
   "execution_count": 169,
   "id": "0952fd9d-18d7-4af1-8222-61f89b119705",
   "metadata": {},
   "outputs": [],
   "source": [
    "#Data Science tools"
   ]
  },
  {
   "cell_type": "code",
   "execution_count": 170,
   "id": "b08ef1e5-c143-493e-b6fd-928009e5e368",
   "metadata": {},
   "outputs": [],
   "source": [
    "dstools = [\"MySQL, Apache Airflow, ModelDB\"]"
   ]
  },
  {
   "cell_type": "code",
   "execution_count": 171,
   "id": "5c32757e-6b7e-4d86-b5d2-0f7ecd895b03",
   "metadata": {},
   "outputs": [
    {
     "name": "stdout",
     "output_type": "stream",
     "text": [
      "['MySQL, Apache Airflow, ModelDB']\n"
     ]
    }
   ],
   "source": [
    "print(dstools)"
   ]
  },
  {
   "cell_type": "code",
   "execution_count": 172,
   "id": "7257b2bb-fc73-494e-956d-a1d97b97efd3",
   "metadata": {},
   "outputs": [],
   "source": [
    "#This is a simple arithmetic expression to multiply then add integers"
   ]
  },
  {
   "cell_type": "code",
   "execution_count": 173,
   "id": "2d9816f1-a6ec-43b9-be8e-06f7a449ff02",
   "metadata": {},
   "outputs": [],
   "source": [
    "x = (3*4)+5"
   ]
  },
  {
   "cell_type": "code",
   "execution_count": 174,
   "id": "79e490ad-44d0-444c-9844-f23d0911e2c1",
   "metadata": {},
   "outputs": [
    {
     "name": "stdout",
     "output_type": "stream",
     "text": [
      "17\n"
     ]
    }
   ],
   "source": [
    "print(x)"
   ]
  },
  {
   "cell_type": "code",
   "execution_count": 175,
   "id": "47038094-4156-4242-a6ba-6142cd7e920d",
   "metadata": {},
   "outputs": [],
   "source": [
    "#This will convert 200 minutes to hours by dividing by 60"
   ]
  },
  {
   "cell_type": "code",
   "execution_count": 176,
   "id": "2335ce6d-5823-4e33-a9c7-bc8a708be018",
   "metadata": {},
   "outputs": [],
   "source": [
    "min = 200"
   ]
  },
  {
   "cell_type": "code",
   "execution_count": 177,
   "id": "c9ce406d-27d6-41a8-8f10-1865eb920379",
   "metadata": {},
   "outputs": [],
   "source": [
    "hr = 60"
   ]
  },
  {
   "cell_type": "code",
   "execution_count": 178,
   "id": "97ab6d4a-4e94-42e0-8844-e4a7ff741107",
   "metadata": {},
   "outputs": [],
   "source": [
    "hrs_conv = min/hr"
   ]
  },
  {
   "cell_type": "code",
   "execution_count": 179,
   "id": "0ffc4452-f831-4883-b02b-882d0c380142",
   "metadata": {},
   "outputs": [
    {
     "name": "stdout",
     "output_type": "stream",
     "text": [
      "3.3333333333333335\n"
     ]
    }
   ],
   "source": [
    "print(hrs_conv)"
   ]
  },
  {
   "cell_type": "code",
   "execution_count": null,
   "id": "5f103ba7-8c9d-4a05-9395-7116d812fa6f",
   "metadata": {},
   "outputs": [],
   "source": [
    "#Author - John M. "
   ]
  }
 ],
 "metadata": {
  "kernelspec": {
   "display_name": "Python 3 (ipykernel)",
   "language": "python",
   "name": "python3"
  },
  "language_info": {
   "codemirror_mode": {
    "name": "ipython",
    "version": 3
   },
   "file_extension": ".py",
   "mimetype": "text/x-python",
   "name": "python",
   "nbconvert_exporter": "python",
   "pygments_lexer": "ipython3",
   "version": "3.11.7"
  }
 },
 "nbformat": 4,
 "nbformat_minor": 5
}
